{
 "cells": [
  {
   "cell_type": "markdown",
   "id": "a5ae0a3b-c811-428b-a8b0-48792abc01c1",
   "metadata": {},
   "source": [
    "# MIPS to C\n",
    "\n",
    "\n",
    "```assembly\n",
    "# a, b, c, d, e -> $s0, $s1, $20, $s3, $s4\n",
    "# X -> $s6, Y -> $s7\n",
    "\n",
    "sll $t0, $s0, 2\n",
    "add $t0, $s6, $t0\n",
    "\n",
    "sll $t1, $s1, 2\n",
    "add $t1, $s7, $t1\n",
    "\n",
    "lw $s0, 0($t0)\n",
    "\n",
    "addi $t2, $t0, 4\n",
    "\n",
    "lw $t0, 0($t2)\n",
    "\n",
    "add $t0, $t0, $s0\n",
    "\n",
    "sw $t0, 0 ($t1)\n",
    "```"
   ]
  },
  {
   "cell_type": "markdown",
   "id": "60471c3d-d345-4059-825a-a58b03c67a57",
   "metadata": {},
   "source": [
    "```C\n",
    "int, a, b, c, d, e;\n",
    "int[] X, Y;\n",
    "\n",
    "int* x = &X;\n",
    "int* y = &Y;\n",
    "\n",
    "int four_a = a * 4;\n",
    "four_a = x + four_a;\n",
    "\n",
    "int four_b = b * 4;\n",
    "four_b = y + four_b;\n",
    "\n",
    "a = X[four_a];\n",
    "plus_four = a + 4;\n",
    "\n",
    "a = X[plus_four];\n",
    "a = a + x;\n",
    "Y[four_b] = a;\n",
    "```"
   ]
  }
 ],
 "metadata": {
  "kernelspec": {
   "display_name": "Python 3 (ipykernel)",
   "language": "python",
   "name": "python3"
  },
  "language_info": {
   "codemirror_mode": {
    "name": "ipython",
    "version": 3
   },
   "file_extension": ".py",
   "mimetype": "text/x-python",
   "name": "python",
   "nbconvert_exporter": "python",
   "pygments_lexer": "ipython3",
   "version": "3.10.6"
  }
 },
 "nbformat": 4,
 "nbformat_minor": 5
}
