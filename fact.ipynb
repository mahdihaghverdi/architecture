{
 "cells": [
  {
   "cell_type": "markdown",
   "id": "26bccff1-c5c9-41e2-b0ba-c39511a9babb",
   "metadata": {
    "tags": []
   },
   "source": [
    "# Nested procedures\n",
    "\n",
    "```C\n",
    "int \n",
    "fact (int n)\n",
    "{\n",
    "    if (n < 1)\n",
    "        return (1);\n",
    "    return (n * fact(n – 1));\n",
    "}\n",
    "```"
   ]
  },
  {
   "cell_type": "markdown",
   "id": "235fe825-5367-44ad-832b-cefd4569f57b",
   "metadata": {},
   "source": [
    "```assembly\n",
    "fact:\n",
    "    addi $sp, $sp, –8     # adjust stack for 2 items\n",
    "    sw $ra, 4($sp)        # save the return address\n",
    "    sw $a0, 0($sp)        # save the argument n\n",
    "\n",
    "    slti $t0, $a0, 1      # test for n < 1\n",
    "    beq $t0, $zero, L1    # if n >= 1, go to L1\n",
    "    \n",
    "    addi $v0 , $zero, 1   # return 1\n",
    "    addi $sp, $sp, 8      # pop 2 items off stack\n",
    "    jr $ra                # return to caller\n",
    "\n",
    "L1: addi $a0, $a0, –1     # n >= 1: argument gets (n – 1)\n",
    "    jal fact              # call fact with (n –1)\n",
    "    \n",
    "    lw $a0, 0($sp)        # return from jal: restore argument n\n",
    "    lw $ra, 4($sp)        # restore the return address\n",
    "    addi $sp, $sp, 8      # adjust stack pointer to pop 2 items\n",
    "    mul $v0, $a0, $v0     # return n * fact (n – 1)\n",
    "    jr $ra                # return to the caller\n",
    "```"
   ]
  }
 ],
 "metadata": {
  "kernelspec": {
   "display_name": "Python 3 (ipykernel)",
   "language": "python",
   "name": "python3"
  },
  "language_info": {
   "codemirror_mode": {
    "name": "ipython",
    "version": 3
   },
   "file_extension": ".py",
   "mimetype": "text/x-python",
   "name": "python",
   "nbconvert_exporter": "python",
   "pygments_lexer": "ipython3",
   "version": "3.10.6"
  }
 },
 "nbformat": 4,
 "nbformat_minor": 5
}
