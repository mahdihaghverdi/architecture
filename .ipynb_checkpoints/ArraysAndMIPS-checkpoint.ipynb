{
 "cells": [
  {
   "cell_type": "markdown",
   "id": "d5c8b9e1-06b3-45ef-9b71-349451cccdee",
   "metadata": {},
   "source": [
    "# Compile the code into MIPS assembly\n",
    "\n",
    "```C\n",
    "int i;\n",
    "int array[1000];\n",
    "for(i = 0; i < 100; i++)\n",
    "     array[i] = array[i] * 8;\n",
    "```\n",
    "\n",
    "Assumptions:\n",
    "\n",
    "- Assume that i corresponds to: `$s0` and the 100 value in the loop is stored in `$s2`\n",
    "\n",
    "- Assume that array base address corresponds to: `$s1`\n",
    "\n",
    "The execution will be as follows: `array[i]` gets loaded from the memory, then is multiplied by 8 and then it will be stored back to memory, so we need `array[i]`  address, before we can add `i` to the base address of the `array` we have to multiply its value by 4 due to byte addressing of MIPS.\n",
    "\n",
    "Then we will multiply the value by 8 (with shifting left 3 times), and we store back the value into the same address.\n",
    "\n",
    "Assembly starts here:\n",
    "```assembly\n",
    "and $s0, $s0, $zero     # int i = 0, and will make it zero 'cause it is anded with $zero\n",
    "\n",
    "Loop:\n",
    "    sll $t0, $s0, 2     # Temp reg $t0 = i * 4\n",
    "    add $t0, $t0, $s1   # $t0 = address of array[i]\n",
    "    lw $t1, 0($t0)      # Temp reg $t1 = array[i]\n",
    "    sll $t1, $t1, 3     # $t1 = $t1 * 8 (or * 2^3 so shift three times to left)\n",
    "    sw $t1, 0($t0)      # array[i] <- array[i]\n",
    "    addi $s0, $s0, 1    # i++\n",
    "    beq $s0, $s2, Exit  # Loop will be terminated\n",
    "    j Loop              # Loop is not terminated and we will start again\n",
    "Exit:\n",
    "    ...\n",
    "```"
   ]
  }
 ],
 "metadata": {
  "kernelspec": {
   "display_name": "Python 3 (ipykernel)",
   "language": "python",
   "name": "python3"
  },
  "language_info": {
   "codemirror_mode": {
    "name": "ipython",
    "version": 3
   },
   "file_extension": ".py",
   "mimetype": "text/x-python",
   "name": "python",
   "nbconvert_exporter": "python",
   "pygments_lexer": "ipython3",
   "version": "3.10.6"
  }
 },
 "nbformat": 4,
 "nbformat_minor": 5
}
