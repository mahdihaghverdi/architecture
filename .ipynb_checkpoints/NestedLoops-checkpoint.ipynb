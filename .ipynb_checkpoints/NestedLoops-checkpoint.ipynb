{
 "cells": [
  {
   "cell_type": "markdown",
   "id": "f40d0bf2-8fb8-4290-824c-f33324c7ffdc",
   "metadata": {},
   "source": [
    "# Nested loops\n",
    "\n",
    "```C\n",
    "int sum = 0;\n",
    "int i = 0;\n",
    "int j = 0;\n",
    "for(i = 0 ; i < 10 ; i++)\n",
    "    for(j = 0 ; j < 10 ; j++)\n",
    "        sum = sum + i + j;\n",
    "```"
   ]
  },
  {
   "cell_type": "markdown",
   "id": "329464df-f779-4662-842e-cde324e9d729",
   "metadata": {},
   "source": [
    "First we translate the for loops into while loops to be delt with easier\n",
    "\n",
    "```C\n",
    "int sum = 0;\n",
    "int i = 0\n",
    "while (i < 10) \n",
    "{\n",
    "    int j = 0;\n",
    "    while (j < 10)\n",
    "    {\n",
    "        sum = sum + i + j;\n",
    "        j++;\n",
    "    }\n",
    "    i++;\n",
    "}\n",
    "```"
   ]
  },
  {
   "cell_type": "markdown",
   "id": "f13c0638-ab69-4614-a421-3528eac7e117",
   "metadata": {},
   "source": [
    "```assembly\n",
    "# Assume all regs are zero by default\n",
    "# $s1 -> i\n",
    "# $s2 -> j\n",
    "\n",
    "addi $s3, $s3 10\n",
    "\n",
    "first_loop:\n",
    "    and $s2, $s2, $zero        # j = 0\n",
    "    second_loop:\n",
    "        add $t0, $s1, $s2      # Temp reg $t0 = i + j\n",
    "        add $s0, $s0, $t1      # sum += i + j\n",
    "        addi $s2, $s2, 1       # j++\n",
    "        bne $s2, $s3, second_loop\n",
    "        \n",
    "    addi $s1, $s1, 1           # i++\n",
    "    bne $s1, $s3, first_loop\n",
    "    j Exit\n",
    "\n",
    "Exit:\n",
    "   ...\n",
    "```"
   ]
  }
 ],
 "metadata": {
  "kernelspec": {
   "display_name": "Python 3 (ipykernel)",
   "language": "python",
   "name": "python3"
  },
  "language_info": {
   "codemirror_mode": {
    "name": "ipython",
    "version": 3
   },
   "file_extension": ".py",
   "mimetype": "text/x-python",
   "name": "python",
   "nbconvert_exporter": "python",
   "pygments_lexer": "ipython3",
   "version": "3.10.6"
  }
 },
 "nbformat": 4,
 "nbformat_minor": 5
}
