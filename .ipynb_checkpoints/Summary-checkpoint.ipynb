{
 "cells": [
  {
   "cell_type": "markdown",
   "id": "a164a149-f50e-4ebd-b06b-3c16fed36386",
   "metadata": {},
   "source": [
    "# Summary of architecture midterm test"
   ]
  },
  {
   "cell_type": "markdown",
   "id": "276ef64d-ea61-4bbe-9203-1f6c42ff1d2b",
   "metadata": {
    "tags": []
   },
   "source": [
    "## Chapter 2\n",
    "\n",
    "- Operations of the computer hardware\n",
    "\n",
    "- Operands  of the computer hardware\n",
    "\n",
    "    - Memory operands\n",
    "  \n",
    "    - Constants or Immediates\n",
    "\n",
    "- Respresenting Instructions\n",
    "    \n",
    "    - MIPS fields\n",
    "  \n",
    "- Logical Operations\n",
    "\n",
    "- Instructions for making decisions\n",
    "\n",
    "    - Loops\n",
    "    \n",
    "    - Case/Switch statements\n",
    "  \n",
    "- Supporting procedures\n",
    "\n",
    "    - Using more registers\n",
    "    \n",
    "    - Nested procedures\n",
    "    \n",
    "    - Allocating space in the stack\n",
    "    \n",
    "- MIPS addressing for 32-bit immediates and addresses\n",
    "\n",
    "    - 32-bit Immediate operands\n",
    "    \n",
    "    - Addressing in branches and Jumps\n",
    "    \n",
    "    - MIPS Addressing Mode Summary\n",
    "    \n",
    "- C Sort example to put it all together"
   ]
  },
  {
   "cell_type": "markdown",
   "id": "dc60ee89-86ab-4f50-9f62-ee64d718bb4d",
   "metadata": {},
   "source": [
    "### Supporting procedures\n",
    "\n"
   ]
  },
  {
   "cell_type": "markdown",
   "id": "2460e49d-3592-4547-8ef5-cba5b6dd5833",
   "metadata": {},
   "source": [
    "### MIPS addressing for 32-bit immediates and addresses\n",
    "\n",
    "#### **32-bit immediate operands**\n",
    "\n",
    "Although constants are frequently short and fit into the 16-bit field, sometimes they\n",
    "are bigger. The MIPS instruction set includes the instruction *load upper immediate*\n",
    "(`lui`) specifically to set the upper 16 bits of a constant in a register, allowing a\n",
    "subsequent instruction to specify the lower 16 bits of the constant. Figure 2.17\n",
    "shows the operation of `lui`."
   ]
  },
  {
   "cell_type": "markdown",
   "id": "f2f970a8-f977-4744-99e5-c7b69dad27f5",
   "metadata": {},
   "source": [
    "**Example**\n",
    "\n",
    "Load `0000 0000 0011 1101 0000 1001 0000 0000` into register `$s0`\n",
    "\n",
    "Solution\n",
    "\n",
    "```assembly\n",
    "lui $s0, 0000 0000 0011 1101\n",
    "ori $s0, $s0, 0000 1001 0000 0000\n",
    "```"
   ]
  },
  {
   "cell_type": "markdown",
   "id": "0f9e45c1-c9d0-4a34-ab07-a0a41970a4a1",
   "metadata": {},
   "source": [
    "#### **Addressing in Branches and Jumps**\n",
    "\n",
    "In *conditional branches* we use **PC-relatice addressing** \n",
    "\n",
    "In this addressing we calculate the next instruction address by adding an immediate value to the PC. In which we can say: go n bit after or before the PC.\n",
    "\n",
    "Another way to branching far away is this example:\n",
    "\n",
    "Suppose L1 does not fit in 16 bit\n",
    "```\n",
    "beq $s0, $s1, L1\n",
    "```\n",
    "will be\n",
    "```\n",
    "bne $s0, $s1, L2\n",
    "j L1\n",
    "\n",
    "l2: \n",
    "  ...\n",
    "```"
   ]
  }
 ],
 "metadata": {
  "kernelspec": {
   "display_name": "Python 3 (ipykernel)",
   "language": "python",
   "name": "python3"
  },
  "language_info": {
   "codemirror_mode": {
    "name": "ipython",
    "version": 3
   },
   "file_extension": ".py",
   "mimetype": "text/x-python",
   "name": "python",
   "nbconvert_exporter": "python",
   "pygments_lexer": "ipython3",
   "version": "3.10.6"
  }
 },
 "nbformat": 4,
 "nbformat_minor": 5
}
